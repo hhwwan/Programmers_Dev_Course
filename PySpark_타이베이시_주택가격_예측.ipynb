{
  "nbformat": 4,
  "nbformat_minor": 0,
  "metadata": {
    "colab": {
      "provenance": []
    },
    "kernelspec": {
      "name": "python3",
      "display_name": "Python 3"
    }
  },
  "cells": [
    {
      "cell_type": "markdown",
      "metadata": {
        "id": "xAqhTDfuWrcM"
      },
      "source": [
        "PySpark을 로컬머신에 설치하고 노트북을 사용하기 보다는 머신러닝 관련 다양한 라이브러리가 이미 설치되었고 좋은 하드웨어를 제공해주는 Google Colab을 통해 실습을 진행한다."
      ]
    },
    {
      "cell_type": "markdown",
      "metadata": {
        "id": "XIA23YgbXKJd"
      },
      "source": [
        "이를 위해 pyspark과 Py4J 패키지를 설치한다. Py4J 패키지는 파이썬 프로그램이 자바가상머신상의 오브젝트들을 접근할 수 있게 해준다. Local Standalone Spark을 사용한다."
      ]
    },
    {
      "cell_type": "code",
      "metadata": {
        "id": "NbT0rpGfVdiq",
        "outputId": "68534065-3aa5-4a57-cab1-f93dee8ca593",
        "colab": {
          "base_uri": "https://localhost:8080/"
        }
      },
      "source": [
        "!pip install pyspark==3.5.3"
      ],
      "execution_count": 1,
      "outputs": [
        {
          "output_type": "stream",
          "name": "stdout",
          "text": [
            "Collecting pyspark==3.5.3\n",
            "  Downloading pyspark-3.5.3.tar.gz (317.3 MB)\n",
            "\u001b[2K     \u001b[90m━━━━━━━━━━━━━━━━━━━━━━━━━━━━━━━━━━━━━━━━\u001b[0m \u001b[32m317.3/317.3 MB\u001b[0m \u001b[31m1.5 MB/s\u001b[0m eta \u001b[36m0:00:00\u001b[0m\n",
            "\u001b[?25h  Preparing metadata (setup.py) ... \u001b[?25l\u001b[?25hdone\n",
            "Requirement already satisfied: py4j==0.10.9.7 in /usr/local/lib/python3.11/dist-packages (from pyspark==3.5.3) (0.10.9.7)\n",
            "Building wheels for collected packages: pyspark\n",
            "  Building wheel for pyspark (setup.py) ... \u001b[?25l\u001b[?25hdone\n",
            "  Created wheel for pyspark: filename=pyspark-3.5.3-py2.py3-none-any.whl size=317840625 sha256=fc110f45c0ac8bc28b29a23da52342b1450a85495033299da5b6e94c68e201b8\n",
            "  Stored in directory: /root/.cache/pip/wheels/97/f5/c0/947e2c0942b361ffe58651f36bd7f13772675b3863fd63d1b1\n",
            "Successfully built pyspark\n",
            "Installing collected packages: pyspark\n",
            "  Attempting uninstall: pyspark\n",
            "    Found existing installation: pyspark 3.5.4\n",
            "    Uninstalling pyspark-3.5.4:\n",
            "      Successfully uninstalled pyspark-3.5.4\n",
            "Successfully installed pyspark-3.5.3\n"
          ]
        }
      ]
    },
    {
      "cell_type": "code",
      "metadata": {
        "id": "3vm6tgcPXdnR"
      },
      "source": [
        "from pyspark.sql import SparkSession\n",
        "\n",
        "spark = SparkSession \\\n",
        "    .builder \\\n",
        "    .appName(\"Taipei Housing Price Prediction\") \\\n",
        "    .getOrCreate()"
      ],
      "execution_count": 2,
      "outputs": []
    },
    {
      "cell_type": "markdown",
      "metadata": {
        "id": "pyl0gES0KhkF"
      },
      "source": [
        "# 타이베이 주택 가격 예측 모델 만들기\n",
        "\n",
        "\n"
      ]
    },
    {
      "cell_type": "markdown",
      "metadata": {
        "id": "BSkgIWglmw3-"
      },
      "source": [
        "데이터셋 설명\n",
        "\n",
        "이번 문제는 대만 타이베이 시의 신단 지역에서 수집된 주택 거래 관련 정보를 바탕으로 주택 가격(정확히는 주택의 평당 가격)을 예측하는 Regression 모델을 만들어보는 것이다. 총 6개의 피쳐와 주택의 평당 가격에 해당하는 레이블 정보가 훈련 데이터로 제공된다. 레이블의 경우에는 주택의 최종 가격이 아니라 평당 가격이란 점을 다시 한번 강조한다.\n",
        "\n",
        "각 컬럼에 대한 설명은 아래와 같으며 모든 필드는 X4를 제외하고는 실수 타입이다.\n",
        "\n",
        "* X1: 주택 거래 날짜를 실수로 제공한다. 소수점 부분은 달을 나타낸다. 예를 들어 2013.250이라면 2013년 3월임을 나타낸다 (0.250 = 3/12)\n",
        "* X2: 주택 나이 (년수)\n",
        "* X3: 가장 가까운 지하철역까지의 거리 (미터)\n",
        "* X4: 주택 근방 걸어갈 수 있는 거리내 편의점 수\n",
        "* X5: 주택 위치의 위도 (latitude)\n",
        "* X6: 주택 위치의 경도 (longitude)\n",
        "* Y: 주택 평당 가격\n",
        "\n"
      ]
    },
    {
      "cell_type": "code",
      "metadata": {
        "id": "LSs_1PYaYWxI",
        "outputId": "215a25d8-1fb4-4c76-f634-0ac69a8a7d3a",
        "colab": {
          "base_uri": "https://localhost:8080/",
          "height": 222
        }
      },
      "source": [
        "spark"
      ],
      "execution_count": 3,
      "outputs": [
        {
          "output_type": "execute_result",
          "data": {
            "text/plain": [
              "<pyspark.sql.session.SparkSession at 0x7b70ec249d90>"
            ],
            "text/html": [
              "\n",
              "            <div>\n",
              "                <p><b>SparkSession - in-memory</b></p>\n",
              "                \n",
              "        <div>\n",
              "            <p><b>SparkContext</b></p>\n",
              "\n",
              "            <p><a href=\"http://5a438192539d:4040\">Spark UI</a></p>\n",
              "\n",
              "            <dl>\n",
              "              <dt>Version</dt>\n",
              "                <dd><code>v3.5.3</code></dd>\n",
              "              <dt>Master</dt>\n",
              "                <dd><code>local[*]</code></dd>\n",
              "              <dt>AppName</dt>\n",
              "                <dd><code>Taipei Housing Price Prediction</code></dd>\n",
              "            </dl>\n",
              "        </div>\n",
              "        \n",
              "            </div>\n",
              "        "
            ]
          },
          "metadata": {},
          "execution_count": 3
        }
      ]
    },
    {
      "cell_type": "code",
      "metadata": {
        "id": "vE8iL4vy6705",
        "colab": {
          "base_uri": "https://localhost:8080/"
        },
        "outputId": "ebda8b44-5ede-45bb-8718-d8c2a2443720"
      },
      "source": [
        "!wget https://grepp-reco-test.s3.ap-northeast-2.amazonaws.com/Taipei_sindan_housing.csv"
      ],
      "execution_count": 4,
      "outputs": [
        {
          "output_type": "stream",
          "name": "stdout",
          "text": [
            "--2025-02-24 09:02:14--  https://grepp-reco-test.s3.ap-northeast-2.amazonaws.com/Taipei_sindan_housing.csv\n",
            "Resolving grepp-reco-test.s3.ap-northeast-2.amazonaws.com (grepp-reco-test.s3.ap-northeast-2.amazonaws.com)... 52.219.204.42, 3.5.141.151, 3.5.184.161, ...\n",
            "Connecting to grepp-reco-test.s3.ap-northeast-2.amazonaws.com (grepp-reco-test.s3.ap-northeast-2.amazonaws.com)|52.219.204.42|:443... connected.\n",
            "HTTP request sent, awaiting response... 200 OK\n",
            "Length: 20014 (20K) [text/csv]\n",
            "Saving to: ‘Taipei_sindan_housing.csv’\n",
            "\n",
            "Taipei_sindan_housi 100%[===================>]  19.54K  --.-KB/s    in 0s      \n",
            "\n",
            "2025-02-24 09:02:15 (86.6 MB/s) - ‘Taipei_sindan_housing.csv’ saved [20014/20014]\n",
            "\n"
          ]
        }
      ]
    },
    {
      "cell_type": "code",
      "metadata": {
        "id": "GfSzc03fOC6e",
        "outputId": "a5584287-618d-4e75-873a-faedf98589ff",
        "colab": {
          "base_uri": "https://localhost:8080/"
        }
      },
      "source": [
        "!ls -tl"
      ],
      "execution_count": 5,
      "outputs": [
        {
          "output_type": "stream",
          "name": "stdout",
          "text": [
            "total 24\n",
            "drwxr-xr-x 1 root root  4096 Feb 20 14:24 sample_data\n",
            "-rw-r--r-- 1 root root 20014 Jul 17  2021 Taipei_sindan_housing.csv\n"
          ]
        }
      ]
    },
    {
      "cell_type": "code",
      "metadata": {
        "id": "-mH3roiKIOix"
      },
      "source": [
        "data = spark.read.csv('./Taipei_sindan_housing.csv', header=True, inferSchema=True)"
      ],
      "execution_count": 6,
      "outputs": []
    },
    {
      "cell_type": "code",
      "metadata": {
        "id": "SCty0kw6ITVi",
        "outputId": "3687c76d-d865-4741-a05e-89474dde47d1",
        "colab": {
          "base_uri": "https://localhost:8080/"
        }
      },
      "source": [
        "data.printSchema()"
      ],
      "execution_count": 7,
      "outputs": [
        {
          "output_type": "stream",
          "name": "stdout",
          "text": [
            "root\n",
            " |-- X1: double (nullable = true)\n",
            " |-- X2: double (nullable = true)\n",
            " |-- X3: double (nullable = true)\n",
            " |-- X4: integer (nullable = true)\n",
            " |-- X5: double (nullable = true)\n",
            " |-- X6: double (nullable = true)\n",
            " |-- Y: double (nullable = true)\n",
            "\n"
          ]
        }
      ]
    },
    {
      "cell_type": "code",
      "metadata": {
        "id": "nrlYYyVfIV1e",
        "outputId": "b74d2401-b7d1-45f6-ab9a-35012a4bf73e",
        "colab": {
          "base_uri": "https://localhost:8080/"
        }
      },
      "source": [
        "data.show()"
      ],
      "execution_count": 8,
      "outputs": [
        {
          "output_type": "stream",
          "name": "stdout",
          "text": [
            "+--------+----+--------+---+--------+---------+----+\n",
            "|      X1|  X2|      X3| X4|      X5|       X6|   Y|\n",
            "+--------+----+--------+---+--------+---------+----+\n",
            "|2012.917|32.0|84.87882| 10|24.98298|121.54024|37.9|\n",
            "|2012.917|19.5|306.5947|  9|24.98034|121.53951|42.2|\n",
            "|2013.583|13.3|561.9845|  5|24.98746|121.54391|47.3|\n",
            "|  2013.5|13.3|561.9845|  5|24.98746|121.54391|54.8|\n",
            "|2012.833| 5.0|390.5684|  5|24.97937|121.54245|43.1|\n",
            "|2012.667| 7.1| 2175.03|  3|24.96305|121.51254|32.1|\n",
            "|2012.667|34.5|623.4731|  7|24.97933|121.53642|40.3|\n",
            "|2013.417|20.3|287.6025|  6|24.98042|121.54228|46.7|\n",
            "|  2013.5|31.7|5512.038|  1|24.95095|121.48458|18.8|\n",
            "|2013.417|17.9| 1783.18|  3|24.96731|121.51486|22.1|\n",
            "|2013.083|34.8|405.2134|  1|24.97349|121.53372|41.4|\n",
            "|2013.333| 6.3|90.45606|  9|24.97433| 121.5431|58.1|\n",
            "|2012.917|13.0|492.2313|  5|24.96515|121.53737|39.3|\n",
            "|2012.667|20.4|2469.645|  4|24.96108|121.51046|23.8|\n",
            "|  2013.5|13.2|1164.838|  4|24.99156|121.53406|34.3|\n",
            "|2013.583|35.7|579.2083|  2| 24.9824|121.54619|50.5|\n",
            "| 2013.25| 0.0|292.9978|  6|24.97744|121.54458|70.1|\n",
            "| 2012.75|17.7|350.8515|  1|24.97544|121.53119|37.4|\n",
            "|2013.417|16.9|368.1363|  8| 24.9675|121.54451|42.3|\n",
            "|2012.667| 1.5|23.38284|  7|24.96772|121.54102|47.7|\n",
            "+--------+----+--------+---+--------+---------+----+\n",
            "only showing top 20 rows\n",
            "\n"
          ]
        }
      ]
    },
    {
      "cell_type": "code",
      "source": [
        "from pyspark.ml.feature import VectorAssembler\n",
        "\n",
        "feature_columns = ['X1', 'X2', 'X3', 'X4', 'X5', 'X6']\n",
        "assembler = VectorAssembler(inputCols=feature_columns, outputCol='features')\n",
        "data_transformed = assembler.transform(data)"
      ],
      "metadata": {
        "id": "Zcp-fiEcMj4M"
      },
      "execution_count": 9,
      "outputs": []
    },
    {
      "cell_type": "code",
      "source": [
        "data_transformed.show()"
      ],
      "metadata": {
        "id": "XxueV5HiMkKM",
        "outputId": "79655cc6-7a42-4bf1-ab94-72c3de007497",
        "colab": {
          "base_uri": "https://localhost:8080/"
        }
      },
      "execution_count": 10,
      "outputs": [
        {
          "output_type": "stream",
          "name": "stdout",
          "text": [
            "+--------+----+--------+---+--------+---------+----+--------------------+\n",
            "|      X1|  X2|      X3| X4|      X5|       X6|   Y|            features|\n",
            "+--------+----+--------+---+--------+---------+----+--------------------+\n",
            "|2012.917|32.0|84.87882| 10|24.98298|121.54024|37.9|[2012.917,32.0,84...|\n",
            "|2012.917|19.5|306.5947|  9|24.98034|121.53951|42.2|[2012.917,19.5,30...|\n",
            "|2013.583|13.3|561.9845|  5|24.98746|121.54391|47.3|[2013.583,13.3,56...|\n",
            "|  2013.5|13.3|561.9845|  5|24.98746|121.54391|54.8|[2013.5,13.3,561....|\n",
            "|2012.833| 5.0|390.5684|  5|24.97937|121.54245|43.1|[2012.833,5.0,390...|\n",
            "|2012.667| 7.1| 2175.03|  3|24.96305|121.51254|32.1|[2012.667,7.1,217...|\n",
            "|2012.667|34.5|623.4731|  7|24.97933|121.53642|40.3|[2012.667,34.5,62...|\n",
            "|2013.417|20.3|287.6025|  6|24.98042|121.54228|46.7|[2013.417,20.3,28...|\n",
            "|  2013.5|31.7|5512.038|  1|24.95095|121.48458|18.8|[2013.5,31.7,5512...|\n",
            "|2013.417|17.9| 1783.18|  3|24.96731|121.51486|22.1|[2013.417,17.9,17...|\n",
            "|2013.083|34.8|405.2134|  1|24.97349|121.53372|41.4|[2013.083,34.8,40...|\n",
            "|2013.333| 6.3|90.45606|  9|24.97433| 121.5431|58.1|[2013.333,6.3,90....|\n",
            "|2012.917|13.0|492.2313|  5|24.96515|121.53737|39.3|[2012.917,13.0,49...|\n",
            "|2012.667|20.4|2469.645|  4|24.96108|121.51046|23.8|[2012.667,20.4,24...|\n",
            "|  2013.5|13.2|1164.838|  4|24.99156|121.53406|34.3|[2013.5,13.2,1164...|\n",
            "|2013.583|35.7|579.2083|  2| 24.9824|121.54619|50.5|[2013.583,35.7,57...|\n",
            "| 2013.25| 0.0|292.9978|  6|24.97744|121.54458|70.1|[2013.25,0.0,292....|\n",
            "| 2012.75|17.7|350.8515|  1|24.97544|121.53119|37.4|[2012.75,17.7,350...|\n",
            "|2013.417|16.9|368.1363|  8| 24.9675|121.54451|42.3|[2013.417,16.9,36...|\n",
            "|2012.667| 1.5|23.38284|  7|24.96772|121.54102|47.7|[2012.667,1.5,23....|\n",
            "+--------+----+--------+---+--------+---------+----+--------------------+\n",
            "only showing top 20 rows\n",
            "\n"
          ]
        }
      ]
    },
    {
      "cell_type": "code",
      "source": [
        "train_data, test_data = data_transformed.randomSplit([0.8, 0.2], seed=42)"
      ],
      "metadata": {
        "id": "0zKoH0aSMkNZ"
      },
      "execution_count": 11,
      "outputs": []
    },
    {
      "cell_type": "code",
      "source": [
        "from pyspark.ml.regression import LinearRegression\n",
        "\n",
        "lr = LinearRegression(featuresCol='features', labelCol='Y')\n",
        "model = lr.fit(train_data)"
      ],
      "metadata": {
        "id": "7PLl9kE-MkQS"
      },
      "execution_count": 12,
      "outputs": []
    },
    {
      "cell_type": "code",
      "source": [
        "from pyspark.ml.evaluation import RegressionEvaluator\n",
        "\n",
        "predictions = model.transform(test_data)\n",
        "evaluator = RegressionEvaluator(labelCol='Y', predictionCol='prediction', metricName='rmse')\n",
        "rmse = evaluator.evaluate(predictions)"
      ],
      "metadata": {
        "id": "uCCLzulAMkTR"
      },
      "execution_count": 13,
      "outputs": []
    },
    {
      "cell_type": "code",
      "source": [
        "print(f'Root Mean Squared Error (RMSE): {rmse}')"
      ],
      "metadata": {
        "id": "jE-YUTiXMkWf",
        "outputId": "8927febf-f64d-4dcd-8c0f-6c74c8170e75",
        "colab": {
          "base_uri": "https://localhost:8080/"
        }
      },
      "execution_count": 14,
      "outputs": [
        {
          "output_type": "stream",
          "name": "stdout",
          "text": [
            "Root Mean Squared Error (RMSE): 12.185242864996995\n"
          ]
        }
      ]
    },
    {
      "cell_type": "code",
      "source": [
        "predictions.select('Y', 'prediction').show(10)"
      ],
      "metadata": {
        "id": "WDTrrKT7MkZU",
        "outputId": "bceb6207-00b6-4bab-bb63-14ef9105a665",
        "colab": {
          "base_uri": "https://localhost:8080/"
        }
      },
      "execution_count": 15,
      "outputs": [
        {
          "output_type": "stream",
          "name": "stdout",
          "text": [
            "+----+------------------+\n",
            "|   Y|        prediction|\n",
            "+----+------------------+\n",
            "|47.7| 47.66368763873288|\n",
            "|50.0| 50.51857823951468|\n",
            "|32.1|31.476266262681747|\n",
            "|37.4|39.547818471113715|\n",
            "|40.3| 37.05396283416485|\n",
            "|39.7| 45.65478150515446|\n",
            "|31.9| 28.03200203106462|\n",
            "|38.4| 43.18159862007815|\n",
            "|55.1|47.497004237857254|\n",
            "|37.5| 37.26886713503882|\n",
            "+----+------------------+\n",
            "only showing top 10 rows\n",
            "\n"
          ]
        }
      ]
    }
  ]
}